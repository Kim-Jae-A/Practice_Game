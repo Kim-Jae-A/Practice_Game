{
 "cells": [
  {
   "cell_type": "code",
   "execution_count": 17,
   "metadata": {},
   "outputs": [],
   "source": [
    "import pygame\n",
    "import "
   ]
  },
  {
   "cell_type": "code",
   "execution_count": 18,
   "metadata": {},
   "outputs": [],
   "source": [
    "import numpy as np"
   ]
  },
  {
   "cell_type": "code",
   "execution_count": 19,
   "metadata": {},
   "outputs": [
    {
     "data": {
      "text/plain": [
       "(6, 0)"
      ]
     },
     "execution_count": 19,
     "metadata": {},
     "output_type": "execute_result"
    }
   ],
   "source": [
    "pygame.init()"
   ]
  },
  {
   "cell_type": "code",
   "execution_count": 20,
   "metadata": {},
   "outputs": [],
   "source": [
    "screen_width = 480  #가로"
   ]
  },
  {
   "cell_type": "code",
   "execution_count": 21,
   "metadata": {},
   "outputs": [],
   "source": [
    "screen_height = 640 #세로"
   ]
  },
  {
   "cell_type": "code",
   "execution_count": 22,
   "metadata": {},
   "outputs": [],
   "source": [
    "screen = pygame.display.set_mode((screen_width, screen_height)) "
   ]
  },
  {
   "cell_type": "code",
   "execution_count": 23,
   "metadata": {},
   "outputs": [],
   "source": [
    "pygame.display.set_caption(\"Kim's Game\") #게임 이름"
   ]
  },
  {
   "cell_type": "code",
   "execution_count": 24,
   "metadata": {},
   "outputs": [],
   "source": [
    "clock = pygame.time.Clock() #프레임 값 함수"
   ]
  },
  {
   "cell_type": "code",
   "execution_count": 25,
   "metadata": {},
   "outputs": [],
   "source": [
    "background = pygame.image.load('/home/jaea/king/background.png')"
   ]
  },
  {
   "cell_type": "code",
   "execution_count": 26,
   "metadata": {},
   "outputs": [],
   "source": [
    "#내 캐릭\n",
    "char = pygame.image.load('/home/jaea/king/charater.png')\n",
    "char_size = char.get_rect().size   #이미지의 크기 구하기\n",
    "char_width = char_size[0]\n",
    "char_height = char_size[1]\n",
    "char_x_pos = screen_width / 2\n",
    "char_y_pos = (screen_height) - (enemy_height)"
   ]
  },
  {
   "cell_type": "code",
   "execution_count": 27,
   "metadata": {},
   "outputs": [],
   "source": [
    "to_x = 0\n",
    "to_y = 0"
   ]
  },
  {
   "cell_type": "code",
   "execution_count": 28,
   "metadata": {},
   "outputs": [],
   "source": [
    "char_speed = 0.7 #속도변수"
   ]
  },
  {
   "cell_type": "code",
   "execution_count": 29,
   "metadata": {},
   "outputs": [],
   "source": [
    "#적\n",
    "enemy = pygame.image.load('/home/jaea/king/enemy.png')\n",
    "enemy_size = enemy.get_rect().size   #이미지의 크기 구하기\n",
    "enemy_width = enemy_size[0]\n",
    "enemy_height = enemy_size[1]\n",
    "enemy_x_pos = (screen_width) - (enemy_width)\n",
    "enemy_y_pos = (screen_height) - (enemy_height)"
   ]
  },
  {
   "cell_type": "code",
   "execution_count": 30,
   "metadata": {
    "scrolled": true
   },
   "outputs": [
    {
     "name": "stderr",
     "output_type": "stream",
     "text": [
      "<ipython-input-30-6d73cdf33cc4>:46: DeprecationWarning: an integer is required (got type float).  Implicit conversion to integers using __int__ is deprecated, and may be removed in a future version of Python.\n",
      "  char_rect.left = char_x_pos\n",
      "<ipython-input-30-6d73cdf33cc4>:63: DeprecationWarning: an integer is required (got type float).  Implicit conversion to integers using __int__ is deprecated, and may be removed in a future version of Python.\n",
      "  screen.blit(char,(char_x_pos,char_y_pos))\n"
     ]
    },
    {
     "name": "stdout",
     "output_type": "stream",
     "text": [
      "충돌\n"
     ]
    }
   ],
   "source": [
    "#이벤트 루프\n",
    "running = True # 게임이 진행중인가?\n",
    "while running:\n",
    "    dt = clock.tick(120) #fps\n",
    "    \n",
    "    \n",
    "    for event in pygame.event.get():  # 이벤트가 발생 하였나?\n",
    "        if event.type == pygame.QUIT: # 창을 닫았나?\n",
    "            running = False  # 진행중이 아니다\n",
    "        if event.type == pygame.KEYDOWN: #키가 눌러졌는지 확인\n",
    "            #방향키에 맞게 움직임\n",
    "            if event.key == pygame.K_LEFT:\n",
    "                to_x -= char_speed\n",
    "            elif event.key == pygame.K_RIGHT:\n",
    "                to_x += char_speed\n",
    "            elif event.key == pygame.K_UP:\n",
    "                to_y -= char_speed\n",
    "            elif event.key == pygame.K_DOWN:\n",
    "                to_y += char_speed\n",
    "        \n",
    "        #방향키 떄면 멈춤\n",
    "        if event.type == pygame.KEYUP:\n",
    "            if event.key == pygame.K_LEFT or event.key == pygame.K_RIGHT:\n",
    "                to_x = 0\n",
    "            elif event.key == pygame.K_UP or event.key == pygame.K_DOWN:\n",
    "                to_y = 0\n",
    "    \n",
    "    #케릭터 이동속도\n",
    "    char_x_pos += to_x * dt\n",
    "    char_y_pos += to_y * dt\n",
    "    \n",
    "    #가로 경계값\n",
    "    if char_x_pos < 0:\n",
    "        char_x_pos = 0\n",
    "    elif char_x_pos > screen_width - char_width:\n",
    "        char_x_pos = screen_width - char_width\n",
    "    \n",
    "    #세로 경계값\n",
    "    if char_y_pos < 0:\n",
    "        char_y_pos = 0\n",
    "    elif char_y_pos > screen_height - char_height:\n",
    "        char_y_pos = screen_height - char_height\n",
    "    \n",
    "    #충돌처리\n",
    "    char_rect = char.get_rect()\n",
    "    char_rect.left = char_x_pos\n",
    "    char_rect.top = char_y_pos\n",
    "    \n",
    "    enemy_rect = enemy.get_rect()\n",
    "    enemy_rect.left = enemy_x_pos\n",
    "    enemy_rect.top = enemy_y_pos\n",
    "    \n",
    "    #충돌 체크\n",
    "    if char_rect.colliderect(enemy_rect):\n",
    "        print(\"충돌\")\n",
    "        running = False\n",
    "    \n",
    "    #게임 배경\n",
    "    screen.blit(background,(0,0))\n",
    "    #screen.fill((0,255,0)) R,G,B 사용하기\n",
    "    \n",
    "    #내 캐릭 불러오기\n",
    "    screen.blit(char,(char_x_pos,char_y_pos))\n",
    "    \n",
    "    #적 불러오기\n",
    "    screen.blit(enemy,(enemy_x_pos,enemy_y_pos))\n",
    "    \n",
    "    #실시간 갱신(필쑤!!)\n",
    "    pygame.display.update()\n",
    "    \n",
    "pygame.quit()"
   ]
  },
  {
   "cell_type": "code",
   "execution_count": null,
   "metadata": {},
   "outputs": [],
   "source": []
  }
 ],
 "metadata": {
  "kernelspec": {
   "display_name": "Python 3",
   "language": "python",
   "name": "python3"
  },
  "language_info": {
   "codemirror_mode": {
    "name": "ipython",
    "version": 3
   },
   "file_extension": ".py",
   "mimetype": "text/x-python",
   "name": "python",
   "nbconvert_exporter": "python",
   "pygments_lexer": "ipython3",
   "version": "3.8.2"
  }
 },
 "nbformat": 4,
 "nbformat_minor": 4
}
