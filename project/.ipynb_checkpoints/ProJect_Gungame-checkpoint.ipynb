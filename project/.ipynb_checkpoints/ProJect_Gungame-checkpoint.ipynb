{
 "cells": [
  {
   "cell_type": "code",
   "execution_count": 1,
   "metadata": {},
   "outputs": [
    {
     "name": "stdout",
     "output_type": "stream",
     "text": [
      "pygame 1.9.6\n",
      "Hello from the pygame community. https://www.pygame.org/contribute.html\n"
     ]
    },
    {
     "name": "stderr",
     "output_type": "stream",
     "text": [
      "<ipython-input-1-adad5d69378d>:78: DeprecationWarning: an integer is required (got type float).  Implicit conversion to integers using __int__ is deprecated, and may be removed in a future version of Python.\n",
      "  screen.blit(char, (char_x_pos, char_y_pos))\n"
     ]
    }
   ],
   "source": [
    "import pygame\n",
    "import os\n",
    "from pathlib import Path\n",
    "\n",
    "pygame.init() #초기화 작업 (필수)\n",
    "\n",
    "screen_width = 640 # 가로크기\n",
    "screen_height = 480 # 세로크기\n",
    "\n",
    "# display 실행 및 타이틀 설정\n",
    "screen = pygame.display.set_mode((screen_width,screen_height))\n",
    "pygame.display.set_caption(\"총쏘자\")\n",
    "\n",
    "#FPS\n",
    "clock = pygame.time.Clock()\n",
    "\n",
    "#현재경로 설정 \n",
    "current_path = Path().absolute()\n",
    "image_path = os.path.join(current_path,\"image\")\n",
    "\n",
    "#배경\n",
    "background = pygame.image.load(os.path.join(image_path,\"background.png\"))\n",
    "\n",
    "#스테이지\n",
    "stage = pygame.image.load(os.path.join(image_path,\"stage.png\"))\n",
    "stage_size = stage.get_rect().size\n",
    "stage_height = stage_size[1]\n",
    "\n",
    "#캐릭터\n",
    "char = pygame.image.load(os.path.join(image_path,\"char.png\"))\n",
    "char_size = char.get_rect().size\n",
    "char_width = char_size[0]\n",
    "char_height = char_size[1]\n",
    "char_x_pos = (screen_width / 2) - (char_width / 2)\n",
    "char_y_pos = screen_height - char_height - stage_height\n",
    "\n",
    "#캐릭터 무빙\n",
    "char_to_x = 0\n",
    "char_speed = 10\n",
    "\n",
    "# event loop\n",
    "running = True # 게임 진행중인가 확인\n",
    "while running: \n",
    "    dt = clock.tick(30) # 초당 프레임수\n",
    "    \n",
    "    # 이벤트 처리 ( 키보드 마우스 등)\n",
    "    for event in pygame.event.get(): #event 발생 체크\n",
    "        if event.type == pygame.QUIT: # 창 닫기 event\n",
    "            running = False\n",
    "            \n",
    "        if event.type == pygame.KEYDOWN:\n",
    "            if event.key == pygame.K_LEFT:\n",
    "                char_to_x -= char_speed\n",
    "            elif event.key == pygame.K_RIGHT:\n",
    "                char_to_x += char_speed\n",
    "            elif event.key == pygame.K_SPACE:\n",
    "                pass\n",
    "            \n",
    "        if event.type == pygame.KEYUP:\n",
    "            if event.key == pygame.K_LEFT or event.key == pygame.K_RIGHT:\n",
    "                char_to_x = 0\n",
    "    \n",
    "    # 게임 캐릭터 위치 정의  \n",
    "    char_x_pos += char_to_x\n",
    "    \n",
    "    if char_x_pos < 0:\n",
    "        char_x_pos = 0\n",
    "    if char_x_pos > screen_width - char_width:\n",
    "        char_x_pos = screen_width - char_width\n",
    "    \n",
    "    \n",
    "    # 충돌 처리\n",
    "    \n",
    "    #화면에 그리기\n",
    "\n",
    "    screen.blit(background, (0, 0))\n",
    "    screen.blit(stage, (0, screen_height - stage_height))\n",
    "    screen.blit(char, (char_x_pos, char_y_pos))\n",
    "\n",
    "    pygame.display.update() #(필수) 게임화면 그리기\n",
    "\n",
    "pygame.quit()"
   ]
  }
 ],
 "metadata": {
  "kernelspec": {
   "display_name": "Python 3",
   "language": "python",
   "name": "python3"
  },
  "language_info": {
   "codemirror_mode": {
    "name": "ipython",
    "version": 3
   },
   "file_extension": ".py",
   "mimetype": "text/x-python",
   "name": "python",
   "nbconvert_exporter": "python",
   "pygments_lexer": "ipython3",
   "version": "3.8.2"
  }
 },
 "nbformat": 4,
 "nbformat_minor": 4
}
